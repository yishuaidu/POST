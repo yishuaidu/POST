{
 "cells": [
  {
   "cell_type": "code",
   "execution_count": 74,
   "metadata": {
    "collapsed": true
   },
   "outputs": [],
   "source": [
    "import pandas as pd\n",
    "import numpy as np"
   ]
  },
  {
   "cell_type": "code",
   "execution_count": 75,
   "metadata": {},
   "outputs": [
    {
     "name": "stdout",
     "output_type": "stream",
     "text": [
      "6\n",
      "3476\n",
      "4903\n",
      "6527\n"
     ]
    },
    {
     "data": {
      "text/plain": [
       "269684"
      ]
     },
     "execution_count": 75,
     "metadata": {},
     "output_type": "execute_result"
    }
   ],
   "source": [
    "df = pd.read_csv('../../tensor-data-large/Avazu/click.csv') \n",
    "df.click = 1\n",
    "\n",
    "print(max(df.banner_pos.unique()))\n",
    "print(max(df.site_id.unique()))\n",
    "print(max(df.app_id.unique()))\n",
    "print(max(df.device_model.unique()))\n",
    "len(df)"
   ]
  },
  {
   "cell_type": "code",
   "execution_count": 76,
   "metadata": {},
   "outputs": [],
   "source": [
    "fd = pd.DataFrame({})\n",
    "fd['banner_pos'] = np.random.randint(6, size=(1, 269684))[0]\n",
    "fd['site_id'] = np.random.randint(3476, size=(1, 269684))[0]\n",
    "fd['app_id'] = np.random.randint(4903, size=(1, 269684))[0]\n",
    "fd['device_model'] = np.random.randint(6527, size=(1, 269684))[0]\n",
    "fd['click'] = np.zeros(269684)\n",
    "df = df.append(fd)\n"
   ]
  },
  {
   "cell_type": "code",
   "execution_count": 77,
   "metadata": {},
   "outputs": [],
   "source": [
    "df = df.drop_duplicates([\"banner_pos\",\"site_id\",\"app_id\",\"device_model\"])"
   ]
  },
  {
   "cell_type": "code",
   "execution_count": 81,
   "metadata": {},
   "outputs": [
    {
     "name": "stdout",
     "output_type": "stream",
     "text": [
      "6\n",
      "3476\n",
      "4903\n",
      "6527\n"
     ]
    },
    {
     "data": {
      "text/plain": [
       "539368"
      ]
     },
     "execution_count": 81,
     "metadata": {},
     "output_type": "execute_result"
    }
   ],
   "source": [
    "print(max(df.banner_pos.unique()))\n",
    "print(max(df.site_id.unique()))\n",
    "print(max(df.app_id.unique()))\n",
    "print(max(df.device_model.unique()))\n",
    "len(df)"
   ]
  },
  {
   "cell_type": "code",
   "execution_count": null,
   "metadata": {},
   "outputs": [],
   "source": []
  },
  {
   "cell_type": "code",
   "execution_count": null,
   "metadata": {},
   "outputs": [],
   "source": []
  },
  {
   "cell_type": "code",
   "execution_count": null,
   "metadata": {
    "collapsed": true
   },
   "outputs": [],
   "source": []
  }
 ],
 "metadata": {
  "kernelspec": {
   "display_name": "Python 3",
   "language": "python",
   "name": "python3"
  },
  "language_info": {
   "codemirror_mode": {
    "name": "ipython",
    "version": 3
   },
   "file_extension": ".py",
   "mimetype": "text/x-python",
   "name": "python",
   "nbconvert_exporter": "python",
   "pygments_lexer": "ipython3",
   "version": "3.6.4"
  }
 },
 "nbformat": 4,
 "nbformat_minor": 2
}
